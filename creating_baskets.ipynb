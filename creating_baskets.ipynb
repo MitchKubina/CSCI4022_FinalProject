{
 "cells": [
  {
   "cell_type": "code",
   "execution_count": null,
   "metadata": {},
   "outputs": [
    {
     "name": "stdout",
     "output_type": "stream",
     "text": [
      "Market baskets written to market_baskets.csv ✅\n"
     ]
    }
   ],
   "source": [
    "import os\n",
    "import pandas as pd\n",
    "from collections import defaultdict\n",
    "\n",
    "'''\n",
    "Declare global variables ... data_directory & initialize market_baskets dict\n",
    "Unique swimmers will be identified by NAME & CLUB in case some swimmers share same names\n",
    "'''\n",
    "data_dir = 'data'\n",
    "market_baskets = defaultdict(list)\n",
    "\n",
    "'''\n",
    "loop over all csv files in the /data directory, get the event name by just dropping the .csv tag\n",
    "then read this csv into a pandas dataframe for pandas data manipulation libraries\n",
    "\n",
    "with swimmer name and swimemr club, append that files event into the swimmer club pair market basket\n",
    "\n",
    "throw exception if something goes wrong\n",
    "'''\n",
    "for filename in os.listdir(data_dir):\n",
    "    if filename.endswith('.csv'):\n",
    "        event_name = filename.replace('.csv', '')\n",
    "        file_path = os.path.join(data_dir, filename)\n",
    "\n",
    "        try:\n",
    "            df = pd.read_csv(file_path)\n",
    "            df.columns = [col.strip() for col in df.columns]\n",
    "\n",
    "            for _, row in df.iterrows():\n",
    "                swimmer = str(row.get(\"Swimmer\", \"\")).strip()\n",
    "                club = str(row.get(\"Club\", \"\")).strip()\n",
    "                if swimmer and club:\n",
    "                    market_baskets[(swimmer, club)].append(event_name)\n",
    "\n",
    "        except Exception as e:\n",
    "            print(f\"Error reading {filename}: {e}\")\n",
    "\n",
    "'''\n",
    "convert baskets to list of dicts for DataFrame that we'll write to a csv file\n",
    "'''\n",
    "basket_rows = [\n",
    "    {\"Swimmer\": swimmer, \"Club\": club, \"Events\": \",\".join(events)}\n",
    "    for (swimmer, club), events in market_baskets.items()\n",
    "]\n",
    "\n",
    "'''\n",
    "throw an output for sanity check, if no errors write market baskets to a csv file\n",
    "'''\n",
    "output_df = pd.DataFrame(basket_rows)\n",
    "output_df.to_csv(\"market_baskets.csv\", index=False)\n",
    "print(\"Market baskets written to market_baskets.csv ✅\")\n"
   ]
  }
 ],
 "metadata": {
  "kernelspec": {
   "display_name": "Python 3",
   "language": "python",
   "name": "python3"
  },
  "language_info": {
   "codemirror_mode": {
    "name": "ipython",
    "version": 3
   },
   "file_extension": ".py",
   "mimetype": "text/x-python",
   "name": "python",
   "nbconvert_exporter": "python",
   "pygments_lexer": "ipython3",
   "version": "3.12.2"
  }
 },
 "nbformat": 4,
 "nbformat_minor": 2
}
