{
 "cells": [
  {
   "cell_type": "code",
   "execution_count": 2,
   "metadata": {},
   "outputs": [],
   "source": [
    "import creating_baskets as cb\n",
    "import numpy as np"
   ]
  },
  {
   "cell_type": "code",
   "execution_count": 3,
   "metadata": {},
   "outputs": [],
   "source": [
    "#Creating Baskets\n",
    "market_baskets = cb.CreateBaskets()"
   ]
  },
  {
   "cell_type": "code",
   "execution_count": 4,
   "metadata": {},
   "outputs": [],
   "source": [
    "#Making sure it works\n",
    "#for item in market_baskets.values():\n",
    "    #print(item)"
   ]
  },
  {
   "cell_type": "code",
   "execution_count": 5,
   "metadata": {},
   "outputs": [
    {
     "name": "stdout",
     "output_type": "stream",
     "text": [
      "{'mens1000free': 0, 'mens100free': 1, 'mens200free': 2, 'mens500free': 3, 'mens400IM': 4, 'mens50Free': 5, 'mens200fly': 6, 'mens200im': 7, 'mens200back': 8, 'mens100fly': 9, 'mens50back': 10, 'mens200breast': 11, 'mens100back': 12, 'mens100i': 13, 'mens50breast': 14, 'mens50fly': 15, 'mens100breast': 16, 'womens1000free': 17, 'womens100free': 18, 'womens200free': 19, 'womens500free': 20, 'womens200im': 21, 'womens400IM': 22, 'womens200back': 23, 'womens100fly': 24, 'womens200fly': 25, 'womens200breast': 26, 'womens100back': 27, 'womens50back': 28, 'womens100im': 29, 'womens50fly': 30, 'womens50breast': 31, 'womens50free': 32, 'womens100breast': 33}\n"
     ]
    }
   ],
   "source": [
    "#Creating a hash table that links the event to an integer\n",
    "counter = 0\n",
    "events_hash = {}\n",
    "\n",
    "\n",
    "for events in market_baskets.values():\n",
    "    for event in events:\n",
    "        if event not in events_hash:\n",
    "            events_hash[event] = counter\n",
    "            counter += 1\n",
    "\n",
    "print(events_hash)\n",
    "# m = number of total events\n",
    "#Will be used for later\n",
    "m = len(events_hash)"
   ]
  },
  {
   "cell_type": "code",
   "execution_count": 6,
   "metadata": {},
   "outputs": [
    {
     "name": "stdout",
     "output_type": "stream",
     "text": [
      "0 0.022786458333333332\n",
      "1 0.11848958333333333\n",
      "2 0.11328125\n",
      "3 0.041666666666666664\n",
      "4 0.030598958333333332\n",
      "5 0.1484375\n",
      "6 0.039713541666666664\n",
      "7 0.08919270833333333\n",
      "8 0.03515625\n",
      "9 0.107421875\n",
      "10 0.12434895833333333\n",
      "11 0.047526041666666664\n",
      "12 0.10091145833333333\n",
      "13 0.06380208333333333\n",
      "14 0.10872395833333333\n",
      "15 0.14778645833333334\n",
      "16 0.09244791666666667\n",
      "17 0.017578125\n",
      "18 0.11848958333333333\n",
      "19 0.09309895833333333\n",
      "20 0.02734375\n",
      "21 0.08919270833333333\n",
      "22 0.044270833333333336\n",
      "23 0.041015625\n",
      "24 0.09049479166666667\n",
      "25 0.024088541666666668\n",
      "26 0.048177083333333336\n",
      "27 0.09375\n",
      "28 0.109375\n",
      "29 0.09895833333333333\n",
      "30 0.11979166666666667\n",
      "31 0.10091145833333333\n",
      "32 0.126953125\n",
      "33 0.08984375\n"
     ]
    }
   ],
   "source": [
    "#Calculating all event supports\n",
    "event_supports = np.zeros(m)\n",
    "\n",
    "for row in market_baskets.items():\n",
    "    events = row[1]\n",
    "    for event in events:\n",
    "        event_supports[events_hash[event]] += 1\n",
    "\n",
    "event_supports = event_supports/len(market_baskets)\n",
    "\n",
    "#print(events_hash[0])\n",
    "\n",
    "for i in range(len(event_supports)):\n",
    "    print(i, event_supports[i])"
   ]
  },
  {
   "cell_type": "code",
   "execution_count": 7,
   "metadata": {},
   "outputs": [
    {
     "name": "stdout",
     "output_type": "stream",
     "text": [
      "{0: 'mens1000free', 1: 'mens100free', 2: 'mens200free', 3: 'mens500free', 4: 'mens400IM', 5: 'mens50Free', 6: 'mens200fly', 7: 'mens200im', 8: 'mens200back', 9: 'mens100fly', 10: 'mens50back', 11: 'mens200breast', 12: 'mens100back', 13: 'mens100i', 14: 'mens50breast', 15: 'mens50fly', 16: 'mens100breast', 17: 'womens1000free', 18: 'womens100free', 19: 'womens200free', 20: 'womens500free', 21: 'womens200im', 22: 'womens400IM', 23: 'womens200back', 24: 'womens100fly', 25: 'womens200fly', 26: 'womens200breast', 27: 'womens100back', 28: 'womens50back', 29: 'womens100im', 30: 'womens50fly', 31: 'womens50breast', 32: 'womens50free', 33: 'womens100breast'}\n"
     ]
    }
   ],
   "source": [
    "#Reverse event hash that will be used later, links the integer back to the event name\n",
    "reverse_events_hash = {}\n",
    "for i in range(m):\n",
    "    for key, val in events_hash.items():\n",
    "        if val == i:\n",
    "            reverse_events_hash[i] = key\n",
    "\n",
    "print(reverse_events_hash)"
   ]
  },
  {
   "cell_type": "code",
   "execution_count": 8,
   "metadata": {},
   "outputs": [
    {
     "name": "stdout",
     "output_type": "stream",
     "text": [
      "[[ 0.  5. 22. ...  0.  0.  0.]\n",
      " [ 0.  0. 77. ...  0.  0.  0.]\n",
      " [ 0.  0.  0. ...  0.  0.  0.]\n",
      " ...\n",
      " [ 0.  0.  0. ...  0. 25. 98.]\n",
      " [ 0.  0.  0. ...  0.  0. 14.]\n",
      " [ 0.  0.  0. ...  0.  0.  0.]]\n"
     ]
    }
   ],
   "source": [
    "#Calculating pairs\n",
    "pairs = {}\n",
    "#Setting all possible pairs to 0 first, as this will aid us in computing the ideal meet schedule with distances.\n",
    "#Upper Triangular\n",
    "for i in range(m):\n",
    "    for j in range(i+1, m):\n",
    "        pairs[i,j] = 0\n",
    "\n",
    "#Looking through all baskets and counting pairs\n",
    "for basket in market_baskets.values():\n",
    "    for i in range(len(basket)):\n",
    "        for j in range(i + 1, len(basket)):\n",
    "            e1 = events_hash[basket[i]]\n",
    "            e2 = events_hash[basket[j]]\n",
    "\n",
    "            if (e1 < e2):\n",
    "                pairs[e1,e2] += 1\n",
    "            else:\n",
    "                pairs[e2,e1] += 1\n",
    "#print(pairs)\n",
    "\n",
    "#Ensuring that we have an upper triangular matrix\n",
    "test_matrix = np.zeros((m,m))\n",
    "for key, value in pairs.items():\n",
    "    test_matrix[key[0], key[1]] = value\n",
    "print(test_matrix)"
   ]
  },
  {
   "cell_type": "code",
   "execution_count": 9,
   "metadata": {},
   "outputs": [
    {
     "name": "stdout",
     "output_type": "stream",
     "text": [
      "mens100free mens50Free\n"
     ]
    }
   ],
   "source": [
    "#little test\n",
    "max_pair = max(pairs, key = pairs.get)\n",
    "first = max_pair[0]\n",
    "second = max_pair[1]\n",
    "print(reverse_events_hash[first], reverse_events_hash[second])"
   ]
  },
  {
   "cell_type": "code",
   "execution_count": 10,
   "metadata": {},
   "outputs": [
    {
     "name": "stdout",
     "output_type": "stream",
     "text": [
      "('mens100free', 'mens50Free'): 119\n",
      "('mens50back', 'mens100back'): 109\n",
      "('womens100free', 'womens50free'): 109\n",
      "('mens50breast', 'mens100breast'): 102\n",
      "('womens100back', 'womens50back'): 98\n",
      "('womens50breast', 'womens100breast'): 98\n",
      "('mens100fly', 'mens50fly'): 97\n",
      "('mens50Free', 'mens50fly'): 96\n",
      "('womens50fly', 'womens50free'): 81\n",
      "('mens100free', 'mens200free'): 77\n"
     ]
    }
   ],
   "source": [
    "# Getting most popular pairs\n",
    "sorted_items = sorted(pairs.items(), key=lambda x: x[1], reverse=True)\n",
    "\n",
    "# Take top n\n",
    "top_n = sorted_items[:10]\n",
    "\n",
    "for k, v in top_n:\n",
    "    print(f\"{reverse_events_hash[k[0]], reverse_events_hash[k[1]]}: {v}\")"
   ]
  },
  {
   "cell_type": "code",
   "execution_count": 11,
   "metadata": {},
   "outputs": [
    {
     "name": "stdout",
     "output_type": "stream",
     "text": [
      "('mens100free', 'mens50Free'): 119\n",
      "('mens50back', 'mens100back'): 109\n",
      "('womens100free', 'womens50free'): 109\n",
      "('mens50breast', 'mens100breast'): 102\n",
      "('womens100back', 'womens50back'): 98\n",
      "('womens50breast', 'womens100breast'): 98\n",
      "('mens100fly', 'mens50fly'): 97\n",
      "('mens50Free', 'mens50fly'): 96\n",
      "('womens50fly', 'womens50free'): 81\n",
      "('mens100free', 'mens200free'): 77\n"
     ]
    }
   ],
   "source": [
    "bottom_n = sorted_items[:10]\n",
    "for k, v in bottom_n:\n",
    "    print(f\"{reverse_events_hash[k[0]], reverse_events_hash[k[1]]}: {v}\")"
   ]
  },
  {
   "cell_type": "code",
   "execution_count": 12,
   "metadata": {},
   "outputs": [
    {
     "name": "stdout",
     "output_type": "stream",
     "text": [
      "0\n",
      "3\n",
      "2\n",
      "1\n",
      "5\n",
      "16\n",
      "11\n",
      "5\n"
     ]
    }
   ],
   "source": [
    "print(events_hash[\"mens1000free\"])\n",
    "print(events_hash[\"mens500free\"])\n",
    "print(events_hash[\"mens200free\"])\n",
    "print(events_hash[\"mens100free\"])\n",
    "print(events_hash[\"mens50Free\"])\n",
    "print(events_hash[\"mens100breast\"])\n",
    "print(events_hash[\"mens200breast\"])\n",
    "print(events_hash[\"mens50Free\"])"
   ]
  },
  {
   "cell_type": "code",
   "execution_count": 13,
   "metadata": {},
   "outputs": [
    {
     "name": "stdout",
     "output_type": "stream",
     "text": [
      "1750.2607004107006\n"
     ]
    }
   ],
   "source": [
    "test_array = [0,1,2,3,4,5,6,7,8,9,10,11,12,13,14,15,16,17,18,19,20,21,22,23,24,25,26,27,28,29,30,31,32,33]\n",
    "\n",
    "#dist(i,j) = support(i,j) * 1/|pos(i) - pos(j)|\n",
    "def dist(x1,x2, pos1, pos2): \n",
    "    if x1 < x2:\n",
    "        return 1/np.abs(pos1 - pos2) * (pairs[x1,x2])\n",
    "    else:\n",
    "        return 1/np.abs(pos1 - pos2) * (pairs[x2,x1])\n",
    "\n",
    "def calc_score(lineup):\n",
    "    score = 0\n",
    "    for i in range(len(lineup)):\n",
    "        for j in range(i+1, len(lineup)):\n",
    "            score += dist(lineup[i], lineup[j], i, j)\n",
    "    return score\n",
    "\n",
    "print(calc_score(test_array))"
   ]
  },
  {
   "cell_type": "code",
   "execution_count": 14,
   "metadata": {},
   "outputs": [
    {
     "name": "stdout",
     "output_type": "stream",
     "text": [
      "{0: 'mens1000free', 1: 'mens100free', 2: 'mens200free', 3: 'mens500free', 4: 'mens400IM', 5: 'mens50Free', 6: 'mens200fly', 7: 'mens200im', 8: 'mens200back', 9: 'mens100fly', 10: 'mens50back', 11: 'mens200breast', 12: 'mens100back', 13: 'mens100i', 14: 'mens50breast', 15: 'mens50fly', 16: 'mens100breast', 17: 'womens1000free', 18: 'womens100free', 19: 'womens200free', 20: 'womens500free', 21: 'womens200im', 22: 'womens400IM', 23: 'womens200back', 24: 'womens100fly', 25: 'womens200fly', 26: 'womens200breast', 27: 'womens100back', 28: 'womens50back', 29: 'womens100im', 30: 'womens50fly', 31: 'womens50breast', 32: 'womens50free', 33: 'womens100breast'}\n"
     ]
    }
   ],
   "source": [
    "print(reverse_events_hash)"
   ]
  },
  {
   "cell_type": "code",
   "execution_count": 15,
   "metadata": {},
   "outputs": [
    {
     "name": "stdout",
     "output_type": "stream",
     "text": [
      "634.7363903038826\n"
     ]
    }
   ],
   "source": [
    "#CCS meet schedule (must just one day)\n",
    "ccs_meet_schedule = [22, 4, 23, 8, 25, 6, 26, 11, 30, 15,21 , 7, 32, 5, 16, 33, 19, 2, 27, 12, 17, 0, 28, 10, 24, 9, 31, 14, 18, 1, 29, 13, 20, 3]\n",
    "print(calc_score(ccs_meet_schedule))"
   ]
  },
  {
   "cell_type": "code",
   "execution_count": 16,
   "metadata": {},
   "outputs": [
    {
     "name": "stdout",
     "output_type": "stream",
     "text": [
      "max score of: 620.6867667411166\n",
      "[11  6 15  3 30 12 19 26 28 20  5  7 23 33 17  8  4 29 22 13 25  1 27 16\n",
      " 32  9 24  0 31 14 21  2 18 10]\n"
     ]
    }
   ],
   "source": [
    "max_score = 1000000\n",
    "best_schedule = []\n",
    "for i in range(100000):\n",
    "    random_schedule = np.random.choice(test_array, size = 34, replace = False)\n",
    "    score = calc_score(random_schedule)\n",
    "    if (score < max_score):\n",
    "        max_score = score\n",
    "        best_schedule = random_schedule\n",
    "\n",
    "print(\"max score of:\", max_score)\n",
    "print(best_schedule)"
   ]
  },
  {
   "cell_type": "code",
   "execution_count": null,
   "metadata": {},
   "outputs": [
    {
     "name": "stdout",
     "output_type": "stream",
     "text": [
      "Total score after separating into 3 day meet schedule\n",
      "316.08571428571423\n"
     ]
    }
   ],
   "source": [
    "#Adjusting to account for it being a multi-day meet\n",
    "ccs_day1 = [22, 4, 23, 8, 25, 6, 26, 11]\n",
    "ccs_day2 = [30, 15,21 , 7, 32, 5, 16, 33, 19, 2, 27, 12, 17, 0]\n",
    "ccs_day3 = [28, 10, 24, 9, 31, 14, 18, 1, 29, 13, 20, 3]\n",
    "\n",
    "schedule = [ccs_day1, ccs_day2, ccs_day3]\n",
    "scores = [calc_score(day) for day in schedule]\n",
    "\n",
    "\n",
    "total_score = sum(scores)\n",
    "print(\"Total score after separating into 3 day meet schedule\")\n",
    "print(total_score)"
   ]
  },
  {
   "cell_type": "markdown",
   "metadata": {},
   "source": [
    "Now Need to find a way to calculate minimum meet schedule, or atleast approximate it.\n",
    "\n",
    "Generate (random) meet schedule, find all cuts of it, calc score?\n",
    "\n",
    "Could put some restrictions to make easier (Keep all timed finals on that friday, 1000 free at end of sat, etc.)"
   ]
  },
  {
   "cell_type": "code",
   "execution_count": 19,
   "metadata": {},
   "outputs": [
    {
     "name": "stdout",
     "output_type": "stream",
     "text": [
      "{0: 'mens1000free', 1: 'mens100free', 2: 'mens200free', 3: 'mens500free', 4: 'mens400IM', 5: 'mens50Free', 6: 'mens200fly', 7: 'mens200im', 8: 'mens200back', 9: 'mens100fly', 10: 'mens50back', 11: 'mens200breast', 12: 'mens100back', 13: 'mens100i', 14: 'mens50breast', 15: 'mens50fly', 16: 'mens100breast', 17: 'womens1000free', 18: 'womens100free', 19: 'womens200free', 20: 'womens500free', 21: 'womens200im', 22: 'womens400IM', 23: 'womens200back', 24: 'womens100fly', 25: 'womens200fly', 26: 'womens200breast', 27: 'womens100back', 28: 'womens50back', 29: 'womens100im', 30: 'womens50fly', 31: 'womens50breast', 32: 'womens50free', 33: 'womens100breast'}\n"
     ]
    }
   ],
   "source": [
    "print(reverse_events_hash)"
   ]
  },
  {
   "cell_type": "code",
   "execution_count": 20,
   "metadata": {},
   "outputs": [
    {
     "name": "stdout",
     "output_type": "stream",
     "text": [
      "Total score after separating into 3 day meet schedule\n",
      "107.01706349206349\n"
     ]
    }
   ],
   "source": [
    "'''\n",
    "Investigating scores of other swim formats\n",
    "'''\n",
    "\n",
    "#NCAA\n",
    "ncaa_day1 = [20, 3, 21, 7, 32, 5]\n",
    "ncaa_day2 = [9, 24, 4, 22, 19, 2, 33, 16, 27, 12]\n",
    "ncaa_day3 = [17, 0, 23, 8, 18, 1, 26, 11, 25, 6]\n",
    "\n",
    "ncaa_schedule = [ncaa_day1, ncaa_day2, ncaa_day3]\n",
    "ncaa_scores = [calc_score(day) for day in ncaa_schedule]\n",
    "\n",
    "\n",
    "ncaa_total_score = sum(ncaa_scores)\n",
    "print(\"Total score after separating into 3 day meet schedule\")\n",
    "print(ncaa_total_score)"
   ]
  }
 ],
 "metadata": {
  "kernelspec": {
   "display_name": "Python 3",
   "language": "python",
   "name": "python3"
  },
  "language_info": {
   "codemirror_mode": {
    "name": "ipython",
    "version": 3
   },
   "file_extension": ".py",
   "mimetype": "text/x-python",
   "name": "python",
   "nbconvert_exporter": "python",
   "pygments_lexer": "ipython3",
   "version": "3.12.6"
  }
 },
 "nbformat": 4,
 "nbformat_minor": 2
}
